{
 "cells": [
  {
   "cell_type": "code",
   "execution_count": 1,
   "metadata": {},
   "outputs": [
    {
     "name": "stdout",
     "output_type": "stream",
     "text": [
      "L0: [[1], [2], [3], [4], [5]]\n",
      "L1: [[1, 3], [2, 3], [2, 5], [3, 5]]\n",
      "L2: [[2, 3, 5]]\n"
     ]
    }
   ],
   "source": [
    "from alg.apriori import Apriori\n",
    "\n",
    "data = [\n",
    "    [1, 3, 4],\n",
    "    [2, 3, 5],\n",
    "    [5, 2, 1, 2, 3],\n",
    "    [2, 5, 2],\n",
    "]\n",
    "\n",
    "associations  = Apriori.find_associations(data, 0.5)\n",
    "\n",
    "for idx, L in enumerate(associations):\n",
    "    print(f\"L{idx}: {L}\")"
   ]
  },
  {
   "cell_type": "code",
   "execution_count": 13,
   "metadata": {},
   "outputs": [],
   "source": [
    "from helpers.ds_builder import DatasetBuilder\n",
    "\n",
    "el_set = ['a', 'b', 'c', 'd', 'k']\n",
    "ds = DatasetBuilder.generate_normal_distribution(el_set, 3, 4, 20)"
   ]
  },
  {
   "cell_type": "code",
   "execution_count": 14,
   "metadata": {},
   "outputs": [
    {
     "name": "stdout",
     "output_type": "stream",
     "text": [
      "0: ['c', 'b', 'b', 'c']\n",
      "1: ['c', 'a', 'b']\n",
      "2: ['a', 'k', 'b', 'c']\n",
      "3: ['b', 'b', 'a']\n",
      "4: ['c', 'b', 'k']\n",
      "5: ['b', 'c', 'a']\n",
      "6: ['d', 'k', 'd']\n",
      "7: ['k', 'd', 'a', 'c']\n",
      "8: ['k', 'k', 'd', 'k']\n",
      "9: ['a', 'a', 'a']\n",
      "10: ['b', 'c', 'd']\n",
      "11: ['a', 'c', 'k']\n",
      "12: ['b', 'd', 'k']\n",
      "13: ['a', 'd', 'a']\n",
      "14: ['a', 'b', 'c', 'a']\n",
      "15: ['a', 'c', 'b']\n",
      "16: ['a', 'c', 'c']\n",
      "17: ['b', 'b', 'd', 'd']\n",
      "18: ['b', 'c', 'd']\n",
      "19: ['c', 'a', 'a']\n"
     ]
    }
   ],
   "source": [
    "for idx,el in enumerate(ds):\n",
    "    print(f'{idx}: {el}')\n"
   ]
  },
  {
   "cell_type": "code",
   "execution_count": 15,
   "metadata": {},
   "outputs": [
    {
     "name": "stdout",
     "output_type": "stream",
     "text": [
      "L0: [['k'], ['d'], ['c'], ['a'], ['b']]\n",
      "L1: [['a', 'c'], ['b', 'c'], ['a', 'b']]\n",
      "L2: [['a', 'b', 'c']]\n"
     ]
    }
   ],
   "source": [
    "associations = Apriori.find_associations(ds, 0.25)\n",
    "\n",
    "for idx, L in enumerate(associations):\n",
    "    print(f\"L{idx}: {L}\")"
   ]
  },
  {
   "cell_type": "code",
   "execution_count": null,
   "metadata": {},
   "outputs": [],
   "source": []
  }
 ],
 "metadata": {
  "kernelspec": {
   "display_name": "Python 3",
   "language": "python",
   "name": "python3"
  },
  "language_info": {
   "codemirror_mode": {
    "name": "ipython",
    "version": 3
   },
   "file_extension": ".py",
   "mimetype": "text/x-python",
   "name": "python",
   "nbconvert_exporter": "python",
   "pygments_lexer": "ipython3",
   "version": "3.7.3"
  }
 },
 "nbformat": 4,
 "nbformat_minor": 2
}
