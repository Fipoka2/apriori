{
 "cells": [
  {
   "cell_type": "code",
   "execution_count": 4,
   "metadata": {},
   "outputs": [
    {
     "name": "stdout",
     "output_type": "stream",
     "text": [
      "L0: [[1], [2], [3], [4], [5]]\n",
      "L1: [[1, 3], [2, 3], [2, 5], [3, 5]]\n",
      "L2: [[2, 3, 5]]\n"
     ]
    }
   ],
   "source": [
    "from alg.apriori import Apriori\n",
    "\n",
    "data = [\n",
    "    [1, 3, 4],\n",
    "    [2, 3, 5],\n",
    "    [5, 2, 1, 2, 3],\n",
    "    [2, 5, 2],\n",
    "]\n",
    "\n",
    "associations  = Apriori.find_associations(data, 0.5)\n",
    "\n",
    "for idx, L in enumerate(associations):\n",
    "    print(f\"L{idx}: {L}\")"
   ]
  },
  {
   "cell_type": "code",
   "execution_count": null,
   "metadata": {},
   "outputs": [],
   "source": []
  }
 ],
 "metadata": {
  "kernelspec": {
   "display_name": "Python 3",
   "language": "python",
   "name": "python3"
  },
  "language_info": {
   "codemirror_mode": {
    "name": "ipython",
    "version": 3
   },
   "file_extension": ".py",
   "mimetype": "text/x-python",
   "name": "python",
   "nbconvert_exporter": "python",
   "pygments_lexer": "ipython3",
   "version": "3.7.3"
  }
 },
 "nbformat": 4,
 "nbformat_minor": 2
}
