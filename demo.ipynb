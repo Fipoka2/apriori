{
 "cells": [
  {
   "cell_type": "code",
   "execution_count": 5,
   "metadata": {},
   "outputs": [
    {
     "name": "stdout",
     "output_type": "stream",
     "text": [
      "L0: [[1], [2], [3], [4], [5]]\n",
      "L1: [[1, 3], [2, 3], [2, 5], [3, 5]]\n",
      "L2: [[2, 3, 5]]\n"
     ]
    }
   ],
   "source": [
    "from alg.apriori import Apriori\n",
    "\n",
    "data = [\n",
    "    [1, 3, 4],\n",
    "    [2, 3, 5],\n",
    "    [5, 2, 1, 2, 3],\n",
    "    [2, 5, 2],\n",
    "]\n",
    "\n",
    "associations  = Apriori.find_associations(data, 0.5)\n",
    "\n",
    "for idx, L in enumerate(associations):\n",
    "    print(f\"L{idx}: {L}\")"
   ]
  },
  {
   "cell_type": "code",
   "execution_count": 25,
   "metadata": {},
   "outputs": [],
   "source": [
    "from helpers.ds_builder import DatasetBuilder\n",
    "\n",
    "el_set = ['a', 'b', 'c', 'd', 'k']\n",
    "ds = DatasetBuilder.generate_normal_distribution(el_set, 2, 4, 20)"
   ]
  },
  {
   "cell_type": "code",
   "execution_count": 26,
   "metadata": {},
   "outputs": [
    {
     "name": "stdout",
     "output_type": "stream",
     "text": [
      "0: ['d', 'a', 'b', 'k']\n",
      "1: ['b', 'b', 'k', 'b']\n",
      "2: ['c', 'd', 'k']\n",
      "3: ['d', 'b', 'k', 'a']\n",
      "4: ['a', 'a', 'a', 'c']\n",
      "5: ['d', 'a', 'd', 'd']\n",
      "6: ['c', 'b', 'a']\n",
      "7: ['b', 'k', 'k', 'd']\n",
      "8: ['d', 'b', 'k']\n",
      "9: ['a', 'k', 'b']\n",
      "10: ['k', 'c', 'b']\n",
      "11: ['d', 'd']\n",
      "12: ['a', 'c', 'b']\n",
      "13: ['c', 'a', 'a']\n",
      "14: ['d', 'a']\n",
      "15: ['a', 'b', 'c']\n",
      "16: ['b', 'd']\n",
      "17: ['b', 'c', 'a']\n",
      "18: ['k', 'a', 'c', 'b']\n",
      "19: ['b', 'd']\n"
     ]
    }
   ],
   "source": [
    "for idx,el in enumerate(ds):\n",
    "    print(f'{idx}: {el}')\n"
   ]
  },
  {
   "cell_type": "code",
   "execution_count": 27,
   "metadata": {},
   "outputs": [
    {
     "name": "stdout",
     "output_type": "stream",
     "text": [
      "L0: [['d'], ['k'], ['a'], ['c'], ['b']]\n",
      "L1: [['d', 'k'], ['b', 'd'], ['b', 'k'], ['a', 'c'], ['a', 'b'], ['b', 'c']]\n",
      "L2: [['a', 'b', 'c']]\n"
     ]
    }
   ],
   "source": [
    "associations = Apriori.find_associations(ds, 0.25)\n",
    "\n",
    "for idx, L in enumerate(associations):\n",
    "    print(f\"L{idx}: {L}\")"
   ]
  },
  {
   "cell_type": "code",
   "execution_count": null,
   "metadata": {},
   "outputs": [],
   "source": []
  }
 ],
 "metadata": {
  "kernelspec": {
   "display_name": "Python 3",
   "language": "python",
   "name": "python3"
  },
  "language_info": {
   "codemirror_mode": {
    "name": "ipython",
    "version": 3
   },
   "file_extension": ".py",
   "mimetype": "text/x-python",
   "name": "python",
   "nbconvert_exporter": "python",
   "pygments_lexer": "ipython3",
   "version": "3.7.3"
  }
 },
 "nbformat": 4,
 "nbformat_minor": 2
}
